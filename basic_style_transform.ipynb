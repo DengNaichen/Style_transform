{
 "cells": [
  {
   "attachments": {},
   "cell_type": "markdown",
   "metadata": {
    "pycharm": {
     "name": "#%% md\n"
    }
   },
   "source": [
    "## Style transform mini project\n",
    "### Also test PyTorch 2.0, the acceleration on M1 chip"
   ]
  },
  {
   "cell_type": "code",
   "execution_count": 1,
   "metadata": {
    "pycharm": {
     "name": "#%%\n"
    }
   },
   "outputs": [
    {
     "name": "stdout",
     "output_type": "stream",
     "text": [
      "Intel MKL WARNING: Support of Intel(R) Streaming SIMD Extensions 4.2 (Intel(R) SSE4.2) enabled only processors has been deprecated. Intel oneAPI Math Kernel Library 2025.0 will require Intel(R) Advanced Vector Extensions (Intel(R) AVX) instructions.\n",
      "Intel MKL WARNING: Support of Intel(R) Streaming SIMD Extensions 4.2 (Intel(R) SSE4.2) enabled only processors has been deprecated. Intel oneAPI Math Kernel Library 2025.0 will require Intel(R) Advanced Vector Extensions (Intel(R) AVX) instructions.\n"
     ]
    }
   ],
   "source": [
    "import numpy as np\n",
    "from PIL import Image\n",
    "import matplotlib.pyplot as plt\n",
    "import torch\n",
    "import torchvision\n",
    "from torch import nn\n",
    "import tqdm"
   ]
  },
  {
   "attachments": {},
   "cell_type": "markdown",
   "metadata": {
    "pycharm": {
     "name": "#%% md\n"
    }
   },
   "source": [
    "First we need to read preprocess and post protest the content image and the style image"
   ]
  },
  {
   "cell_type": "code",
   "execution_count": 2,
   "outputs": [],
   "source": [
    "def read_image(file_path):\n",
    "    # read the image\n",
    "    try:\n",
    "        img = Image.open(file_path)\n",
    "        if img.mode == 'RGBA':\n",
    "            img = img.convert(\"RGB\")\n",
    "\n",
    "        img_array = np.asarray(img)\n",
    "        return img, img_array\n",
    "    except IOError:\n",
    "        print(f\"Unable to read image: {file_path}\")\n",
    "        return None"
   ],
   "metadata": {
    "collapsed": false,
    "pycharm": {
     "name": "#%%\n"
    }
   }
  },
  {
   "cell_type": "markdown",
   "source": [
    "so now we have\n",
    "1. two images with three channels. but those images are too large to train\n",
    "2. these two image has difference size\n",
    "\n",
    "So we need to resize them"
   ],
   "metadata": {
    "collapsed": false,
    "pycharm": {
     "name": "#%% md\n"
    }
   }
  },
  {
   "cell_type": "code",
   "execution_count": 3,
   "outputs": [],
   "source": [
    "def pre_process(img, img_size):\n",
    "    rgb_mean = torch.tensor([0.485, 0.456, 0.406])\n",
    "    rgb_std = torch.tensor([0.229, 0.224, 0.225])\n",
    "    transforms = torchvision.transforms.Compose([\n",
    "        torchvision.transforms.Resize(img_size),\n",
    "        torchvision.transforms.ToTensor(),\n",
    "        torchvision.transforms.Normalize(mean=rgb_mean,\n",
    "                                         std=rgb_std)])\n",
    "    return transforms(img).unsqueeze(0)\n",
    "\n",
    "def post_process(img):\n",
    "    rgb_mean = torch.tensor([0.485, 0.456, 0.406])\n",
    "    rgb_std = torch.tensor([0.229, 0.224, 0.225])\n",
    "    img = img[0]\n",
    "    img = torch.clamp(img.permute(1, 2, 0) * rgb_std + rgb_mean, 0, 1)\n",
    "    return torchvision.transforms.ToPILImage()(img.permute(2, 0, 1))"
   ],
   "metadata": {
    "collapsed": false,
    "pycharm": {
     "name": "#%%\n"
    }
   }
  },
  {
   "cell_type": "markdown",
   "source": [
    "We employ the VGG 19 model, introduced in 2014, for this project. VGG 19 (or VGG 16) is a well-known CNN model with 3x3 convolutional layers and 2x2 pooling layers. We will not delve into the details of CNNs in this project, but it is essential to understand the following points:\n",
    "1. Generally, layers closer to the input are more adept at extracting detailed image information. Hence, we select a layer closer to the VGG output as the content layer to generate the content features of the image.\n",
    "2. We choose the outputs of various VGG layers to match local and global styles. These layers are referred to as style layers.\n",
    "3. VGG is a model with a large number of parameters, with the majority found in the first Fully Connected Neural Network (FNN) layer. However, in this project, the fully connected layers are discarded.\n",
    "4. This project does not involve training a model, so the model's parameters remain unchanged during the training process.\n",
    "5. Despite not training the model, we still need to train something: the composite images. This process will be discussed further later on."
   ],
   "metadata": {
    "collapsed": false,
    "pycharm": {
     "name": "#%% md\n"
    }
   }
  },
  {
   "cell_type": "code",
   "execution_count": 4,
   "outputs": [],
   "source": [
    "pretrained_net = torchvision.models.vgg19(weights='VGG19_Weights.IMAGENET1K_V1')\n",
    "style_layers, content_layers = [0, 5, 10, 19, 28], [25]\n",
    "# print(pretrained_net)\n",
    "net = nn.Sequential(*[pretrained_net.features[i] for i in\n",
    "                      range(max(content_layers + style_layers) + 1)])\n",
    "# print(net)\n",
    "# we can see that the net we used here do not contain the full connect layers"
   ],
   "metadata": {
    "collapsed": false,
    "pycharm": {
     "name": "#%%\n"
    }
   }
  },
  {
   "cell_type": "code",
   "execution_count": 5,
   "outputs": [],
   "source": [
    "def extract_features(x, content_layers, style_layers):\n",
    "    \"\"\"\n",
    "    input:\n",
    "    x: the input tensor for nn, could be orignal, or fake images\n",
    "    content_layers: a list, contain the number(s) of layers we will take from VGG.\n",
    "    style_layer: a list, contain the number(s) of layers we will take from VGG.\n",
    "\n",
    "    return:\n",
    "    contents: a list contain the output of content layers.\n",
    "    styles: a list contain the output of style layers.\n",
    "    \"\"\"\n",
    "    contents = []\n",
    "    styles = []\n",
    "    for i in range(len(net)):\n",
    "        x = net[i](x)\n",
    "        if i in style_layers:\n",
    "            styles.append(x)\n",
    "        if i in content_layers:\n",
    "            contents.append(x)\n",
    "    return contents, styles"
   ],
   "metadata": {
    "collapsed": false,
    "pycharm": {
     "name": "#%%\n"
    }
   }
  },
  {
   "cell_type": "code",
   "execution_count": 6,
   "outputs": [],
   "source": [
    "def get_contents(content_img, image_shape, device):\n",
    "    \"\"\"\n",
    "    content_img: PIL image\n",
    "    image_shape: list\n",
    "\n",
    "    return: \n",
    "    content_x: tensor of the pre-processed image\n",
    "    content_y: output of the content layer\n",
    "    \"\"\"\n",
    "    content_x = pre_process(content_img, image_shape).to(device)\n",
    "    print(content_x.device)\n",
    "    contents_y, _ = extract_features(content_x, content_layers, style_layers)\n",
    "    return content_x, contents_y\n",
    "\n",
    "def get_styles(style_img, image_shape, device):\n",
    "    style_x = pre_process(style_img, image_shape).to(device)\n",
    "    _, styles_y = extract_features(style_x, content_layers, style_layers)\n",
    "    return style_x, styles_y"
   ],
   "metadata": {
    "collapsed": false,
    "pycharm": {
     "name": "#%%\n"
    }
   }
  },
  {
   "cell_type": "markdown",
   "source": [
    "### loss function\n",
    "1. Content loss: Content loss quantifies the discrepancy between the synthesized image and the content image in terms of content features, utilizing the squared error function to measure this difference.\n",
    "2. Style loss: Style loss employs the Mean Squared Error (MSE) to calculate its value. However, a matrix called the \"Gram matrix\" is used to represent the style of the output from the style layer. The Gram matrix may not be well-understood, but it can be thought of as a method to \"calculate\" the \"style.\"\n",
    "3. Total variation loss: This concept might be unfamiliar, but it is often used to address the presence of high-frequency noise in composite images, which can manifest as grainy pixels that are exceptionally bright or dark. Total variation denoising is a common technique for reducing such noise.\n",
    "\n",
    "The following code block demonstrates the implementation of these three loss types:"
   ],
   "metadata": {
    "collapsed": false,
    "pycharm": {
     "name": "#%% md\n"
    }
   }
  },
  {
   "cell_type": "code",
   "execution_count": 7,
   "outputs": [],
   "source": [
    "# this should be the core part of math, but I will ignore them since we are not study the graphics\n",
    "# just know that we need to minimize both three loss is enough\n",
    "# I will explain all three loss function\n",
    "def content_loss(Y_hat, Y):\n",
    "    \"\"\"\n",
    "    input:\n",
    "    yhat: content of the synthesized image, output of content layer\n",
    "    y: content of the original image, output of content layer\n",
    "    yhat and y has the same size.\n",
    "    return:\n",
    "    mse loss\n",
    "    \"\"\"\n",
    "    return torch.square(Y_hat - Y.detach()).mean()\n",
    "\n",
    "def gram(X):\n",
    "    \"\"\"\n",
    "    X: output of the style layer\n",
    "\n",
    "    return:\n",
    "    gram matrix\n",
    "    \"\"\"\n",
    "    num_channels, n = X.shape[1], X.numel() // X.shape[1]\n",
    "    X = X.reshape((num_channels, n))\n",
    "    return torch.matmul(X, X.T) / (num_channels * n)\n",
    "\n",
    "def style_loss(Y_hat, gram_Y):\n",
    "    return torch.square(gram(Y_hat) - gram_Y.detach()).mean()\n",
    "\n",
    "def tv_loss(Y_hat):\n",
    "    return 0.5 * (torch.abs(Y_hat[:, :, 1:, :] - Y_hat[:, :, :-1, :]).mean() +\n",
    "                  torch.abs(Y_hat[:, :, :, 1:] - Y_hat[:, :, :, :-1]).mean())"
   ],
   "metadata": {
    "collapsed": false,
    "pycharm": {
     "name": "#%%\n"
    }
   }
  },
  {
   "cell_type": "markdown",
   "source": [
    "The loss function for style transform is a weighted sum of content loss, style loss, and total change loss. By adjusting these weight hyperparameters, we can weigh the relative importance of the synthetic image in terms of preserving content, migrating style, and denoising."
   ],
   "metadata": {
    "collapsed": false,
    "pycharm": {
     "name": "#%% md\n"
    }
   }
  },
  {
   "cell_type": "code",
   "execution_count": 8,
   "outputs": [],
   "source": [
    "def compute_loss(X, contents_Y_hat, styles_Y_hat, contents_Y,\n",
    "                 styles_Y_gram, content_weight, style_weight, tv_weight):\n",
    "    \"\"\"\n",
    "    X:\n",
    "    contents_Y_hat: list, the output form content layer(s), input is the fake content image\n",
    "    contents_Y, list, the output form content layer(s), input is the orignal \n",
    "\n",
    "    style_Y_hat: list, the output form style layer(s), input is the fake image\n",
    "    style_Y_gram: list, the output form style layer(s), calculate gram, input is the orignial image\n",
    "    \"\"\"\n",
    "    # same len with content_layers, should be 1\n",
    "    contents_l = [content_loss(Y_hat, Y) * content_weight for Y_hat, Y in zip(\n",
    "        contents_Y_hat, contents_Y)]\n",
    "    # same len with style_layers, should be 5\n",
    "    styles_l = [style_loss(Y_hat, Y) * style_weight for Y_hat, Y in zip(\n",
    "        styles_Y_hat, styles_Y_gram)]\n",
    "    # tensor\n",
    "    tv_l = tv_loss(X) * tv_weight\n",
    "\n",
    "    # sum over all loss value\n",
    "    l = sum(10 * styles_l + contents_l + [tv_l])\n",
    "    return contents_l, styles_l, tv_l, l"
   ],
   "metadata": {
    "collapsed": false,
    "pycharm": {
     "name": "#%%\n"
    }
   }
  },
  {
   "cell_type": "code",
   "execution_count": 9,
   "outputs": [],
   "source": [
    "class SynthesizedImage(nn.Module):\n",
    "    def __init__(self, img_shape, **kwargs):\n",
    "        super(SynthesizedImage, self).__init__(**kwargs)\n",
    "        # now we know that useing nn.Parameter is for auto-update and caluclate\n",
    "        # gradient, however, how to use the SynthesizedImage?\n",
    "        # we treat it as the target image or the \"noise\" added on the original image?\n",
    "        # the answer is that we just treat it as the target image, \n",
    "        # the torch.rand is for nothing, can be changed to ones or zeros\n",
    "        # the weight will be changed when we instantiate it, will see later\n",
    "        self.weight = nn.Parameter(torch.rand(*img_shape))\n",
    "\n",
    "    def forward(self):\n",
    "        return self.weight"
   ],
   "metadata": {
    "collapsed": false,
    "pycharm": {
     "name": "#%%\n"
    }
   }
  },
  {
   "cell_type": "code",
   "execution_count": 10,
   "outputs": [],
   "source": [
    "def get_inits(x, lr, styles_y, device):\n",
    "    \"\"\"\n",
    "    x: content x, note it is content x, not x content\n",
    "    lr: learning rate\n",
    "    styles_y: the target style list, since we only need calculate it once, so do it here\n",
    "    \"\"\"\n",
    "    # initialize a random image\n",
    "    gen_img = SynthesizedImage(x.shape).to(device)\n",
    "    gen_img.weight.data.copy_(x.data)\n",
    "    # optimizer, use adam here, why?\n",
    "    # just use adam for every job. even through this is stupid.. we ain't doing research anyway\n",
    "    trainer = torch.optim.Adam(gen_img.parameters(), lr=lr)\n",
    "    styles_y_gram = [gram(Y) for Y in styles_y]\n",
    "    return gen_img(), styles_y_gram, trainer"
   ],
   "metadata": {
    "collapsed": false,
    "pycharm": {
     "name": "#%%\n"
    }
   }
  },
  {
   "cell_type": "markdown",
   "source": [
    "## Test"
   ],
   "metadata": {
    "collapsed": false,
    "pycharm": {
     "name": "#%% md\n"
    }
   }
  },
  {
   "cell_type": "markdown",
   "source": [
    "We observe that the most time-consuming components are the `extract_features()` and `back-prop() `processes, which is understandable as they are the only parts involving the VGG 19. The other calculations are relatively simple. We should focus on accelerating these two aspects.\n",
    "\n",
    "Additionally, we need to clarify some aspects of this algorithm:\n",
    "1. We do not update the parameters of the neural network, which in this case is VGG 19.\n",
    "2. We don't even use the fully connected layer, yet the performance remains low. We need to understand why this is the case.\n",
    "3. This project is akin to the gradient ascent attack problem, where we compute the gradient of loss with respect to the input (the \"fake\" image). Nonetheless, this doesn't mean we can ignore calculating the gradient of loss concerning the convolutional layer parameters due to the chain rule. Therefore, the sections involving forward and back-propagation are the most time-consuming.\n",
    "4. To speed up the process, we can employ a similar approach used in other tasks by transferring everything to a high-performance device. I will test how the Apple M1 accelerates the progress and also investigate how PyTorch compilation works.\n",
    "5. Finally, it's important to note that while there is a for loop present in the loss computation section, this does not imply that the loss function itself is calculated iteratively. The loss function still relies on matrix operations, and the for loop is used to iterate over different components of the loss. This is the reason why we can have loops within the function."
   ],
   "metadata": {
    "collapsed": false,
    "pycharm": {
     "name": "#%% md\n"
    }
   }
  },
  {
   "cell_type": "code",
   "execution_count": 11,
   "outputs": [],
   "source": [
    "if torch.backends.mps.is_available():\n",
    "    device = torch.device(\"mps\")\n",
    "else:\n",
    "    device = 'cpu'"
   ],
   "metadata": {
    "collapsed": false,
    "pycharm": {
     "name": "#%%\n"
    }
   }
  },
  {
   "cell_type": "code",
   "execution_count": 12,
   "outputs": [],
   "source": [
    "def train(content_image, style_image, image_shape, \n",
    "          lr, num_epochs, lr_decay_epoch, device,\n",
    "          content_weight, style_weight, tv_weight):\n",
    "    \"\"\"\n",
    "    content_image: PIL content image\n",
    "    style_image: PIL style image\n",
    "    lr: learning rate\n",
    "    num_epochs:\n",
    "    lr_decay_epoch:\n",
    "    device:\n",
    "    \"\"\"\n",
    "    content_x, contents_y = get_contents(content_image, image_shape, device)\n",
    "    _, styles_y = get_styles(style_image, image_shape, device)\n",
    "    \n",
    "    # keep track the losses\n",
    "    content_losses, style_losses, tv_losses = [], [], []\n",
    "    # initialize a synthesized image\n",
    "    # calculate the original style gram\n",
    "    # define the optimizer\n",
    "    X, styles_y_gram, trainer = get_inits(content_x, lr, styles_y, device)\n",
    "    # define the scheduler\n",
    "    scheduler = torch.optim.lr_scheduler.StepLR(trainer, lr_decay_epoch, 0.8)\n",
    "\n",
    "    # main part\n",
    "    for epoch in tqdm.tqdm(range(num_epochs)):\n",
    "        # clear grad\n",
    "        trainer.zero_grad()\n",
    "        # extract features of synthesized image\n",
    "        contents_Y_hat, styles_Y_hat = extract_features(X, content_layers, style_layers)\n",
    "        # calculate the loss\n",
    "        contents_l, styles_l, tv_l, l = compute_loss(X, contents_Y_hat, \n",
    "                                                     styles_Y_hat, contents_y, styles_y_gram,\n",
    "                                                     content_weight, style_weight, tv_weight)\n",
    "        \n",
    "        l.backward()\n",
    "        trainer.step()\n",
    "        scheduler.step()\n",
    "\n",
    "        content_losses.append(contents_l[0].item())\n",
    "        style_losses.append(styles_l[0].item())\n",
    "        tv_losses.append(tv_l.item())\n",
    "\n",
    "    return X, content_losses, style_losses, tv_losses"
   ],
   "metadata": {
    "collapsed": false,
    "pycharm": {
     "name": "#%%\n"
    }
   }
  },
  {
   "cell_type": "code",
   "execution_count": 13,
   "outputs": [],
   "source": [
    "# pre-process image\n",
    "content_image_path = 'images/homelander.jpeg'\n",
    "content_image, content_array = read_image(content_image_path)\n",
    "content_image.show()\n",
    "# style_image_path = 'woman_with_a_hat.jpg'\n",
    "style_image_path = 'images/star.jpg'\n",
    "style_image, style_array = read_image(style_image_path)\n",
    "style_image.show()"
   ],
   "metadata": {
    "collapsed": false,
    "pycharm": {
     "name": "#%%\n"
    }
   }
  },
  {
   "cell_type": "code",
   "execution_count": 14,
   "outputs": [
    {
     "name": "stdout",
     "output_type": "stream",
     "text": [
      "mps:0\n"
     ]
    },
    {
     "name": "stderr",
     "output_type": "stream",
     "text": [
      "  0%|          | 0/500 [00:00<?, ?it/s]/Users/nd/opt/anaconda3/envs/torch_2_0/lib/python3.9/site-packages/torch/autograd/__init__.py:200: UserWarning: The operator 'aten::sgn.out' is not currently supported on the MPS backend and will fall back to run on the CPU. This may have performance implications. (Triggered internally at /Users/runner/work/_temp/anaconda/conda-bld/pytorch_1682343686209/work/aten/src/ATen/mps/MPSFallback.mm:11.)\n",
      "  Variable._execution_engine.run_backward(  # Calls into the C++ engine to run the backward pass\n",
      "100%|██████████| 500/500 [02:01<00:00,  4.11it/s]\n"
     ]
    }
   ],
   "source": [
    "image_shape = [300, 400]\n",
    "content_weight, style_weight, tv_weight = 5, 1e3, 1\n",
    "lr = 0.5\n",
    "n_epoch = 500\n",
    "lr_decay = 50\n",
    "device = torch.device(\"mps\")\n",
    "net = net.to(device)\n",
    "x, a, b, c = train(content_image, style_image, image_shape, lr, n_epoch, lr_decay, device,\n",
    "                   content_weight, style_weight, tv_weight)"
   ],
   "metadata": {
    "collapsed": false,
    "pycharm": {
     "name": "#%%\n"
    }
   }
  },
  {
   "cell_type": "code",
   "execution_count": 92,
   "outputs": [
    {
     "data": {
      "text/plain": "<Figure size 640x480 with 1 Axes>",
      "image/png": "[encoded data removed]"
     },
     "metadata": {},
     "output_type": "display_data"
    }
   ],
   "source": [
    "plt.plot(a, label='content loss')\n",
    "plt.plot(b, label='style loss')\n",
    "plt.plot(c, label='tv loss')\n",
    "plt.legend()\n",
    "plt.show()\n",
    "\n",
    "image_test = post_process(x.cpu())\n",
    "image_test.show()"
   ],
   "metadata": {
    "collapsed": false,
    "pycharm": {
     "name": "#%%\n"
    }
   }
  },
  {
   "cell_type": "code",
   "execution_count": 41,
   "outputs": [
    {
     "name": "stdout",
     "output_type": "stream",
     "text": [
      "cpu\n"
     ]
    },
    {
     "name": "stderr",
     "output_type": "stream",
     "text": [
      " 55%|█████▌    | 277/500 [12:12<09:49,  2.64s/it]\n"
     ]
    },
    {
     "ename": "KeyboardInterrupt",
     "evalue": "",
     "output_type": "error",
     "traceback": [
      "\u001B[0;31m---------------------------------------------------------------------------\u001B[0m",
      "\u001B[0;31mKeyboardInterrupt\u001B[0m                         Traceback (most recent call last)",
      "Cell \u001B[0;32mIn[41], line 8\u001B[0m\n\u001B[1;32m      6\u001B[0m device \u001B[38;5;241m=\u001B[39m \u001B[38;5;124m'\u001B[39m\u001B[38;5;124mcpu\u001B[39m\u001B[38;5;124m'\u001B[39m\n\u001B[1;32m      7\u001B[0m net \u001B[38;5;241m=\u001B[39m net\u001B[38;5;241m.\u001B[39mto(device)\n\u001B[0;32m----> 8\u001B[0m x, a, b, c \u001B[38;5;241m=\u001B[39m \u001B[43mtrain\u001B[49m\u001B[43m(\u001B[49m\u001B[43mcontent_image\u001B[49m\u001B[43m,\u001B[49m\u001B[43m \u001B[49m\u001B[43mstyle_image\u001B[49m\u001B[43m,\u001B[49m\u001B[43m \u001B[49m\u001B[43mimage_shape\u001B[49m\u001B[43m,\u001B[49m\u001B[43m \u001B[49m\u001B[43mlr\u001B[49m\u001B[43m,\u001B[49m\u001B[43m \u001B[49m\u001B[43mn_epoch\u001B[49m\u001B[43m,\u001B[49m\u001B[43m \u001B[49m\u001B[43mlr_decay\u001B[49m\u001B[43m,\u001B[49m\u001B[43m \u001B[49m\u001B[43mdevice\u001B[49m\u001B[43m,\u001B[49m\n\u001B[1;32m      9\u001B[0m \u001B[43m                   \u001B[49m\u001B[43mcontent_weight\u001B[49m\u001B[43m,\u001B[49m\u001B[43m \u001B[49m\u001B[43mstyle_weight\u001B[49m\u001B[43m,\u001B[49m\u001B[43m \u001B[49m\u001B[43mtv_weight\u001B[49m\u001B[43m)\u001B[49m\n\u001B[1;32m     11\u001B[0m plt\u001B[38;5;241m.\u001B[39mplot(a, label\u001B[38;5;241m=\u001B[39m\u001B[38;5;124m'\u001B[39m\u001B[38;5;124mcontent loss\u001B[39m\u001B[38;5;124m'\u001B[39m)\n\u001B[1;32m     12\u001B[0m plt\u001B[38;5;241m.\u001B[39mplot(b, label\u001B[38;5;241m=\u001B[39m\u001B[38;5;124m'\u001B[39m\u001B[38;5;124mstyle loss\u001B[39m\u001B[38;5;124m'\u001B[39m)\n",
      "Cell \u001B[0;32mIn[36], line 35\u001B[0m, in \u001B[0;36mtrain\u001B[0;34m(content_image, style_image, image_shape, lr, num_epochs, lr_decay_epoch, device, content_weight, style_weight, tv_weight)\u001B[0m\n\u001B[1;32m     30\u001B[0m \u001B[38;5;66;03m# calculate the loss\u001B[39;00m\n\u001B[1;32m     31\u001B[0m contents_l, styles_l, tv_l, l \u001B[38;5;241m=\u001B[39m compute_loss(X, contents_Y_hat, \n\u001B[1;32m     32\u001B[0m                                              styles_Y_hat, contents_y, styles_y_gram,\n\u001B[1;32m     33\u001B[0m                                              content_weight, style_weight, tv_weight)\n\u001B[0;32m---> 35\u001B[0m \u001B[43ml\u001B[49m\u001B[38;5;241;43m.\u001B[39;49m\u001B[43mbackward\u001B[49m\u001B[43m(\u001B[49m\u001B[43m)\u001B[49m  \u001B[38;5;66;03m# type: ignore\u001B[39;00m\n\u001B[1;32m     36\u001B[0m trainer\u001B[38;5;241m.\u001B[39mstep()\n\u001B[1;32m     37\u001B[0m scheduler\u001B[38;5;241m.\u001B[39mstep()\n",
      "File \u001B[0;32m~/opt/anaconda3/envs/torch_2_0/lib/python3.9/site-packages/torch/_tensor.py:487\u001B[0m, in \u001B[0;36mTensor.backward\u001B[0;34m(self, gradient, retain_graph, create_graph, inputs)\u001B[0m\n\u001B[1;32m    477\u001B[0m \u001B[38;5;28;01mif\u001B[39;00m has_torch_function_unary(\u001B[38;5;28mself\u001B[39m):\n\u001B[1;32m    478\u001B[0m     \u001B[38;5;28;01mreturn\u001B[39;00m handle_torch_function(\n\u001B[1;32m    479\u001B[0m         Tensor\u001B[38;5;241m.\u001B[39mbackward,\n\u001B[1;32m    480\u001B[0m         (\u001B[38;5;28mself\u001B[39m,),\n\u001B[0;32m   (...)\u001B[0m\n\u001B[1;32m    485\u001B[0m         inputs\u001B[38;5;241m=\u001B[39minputs,\n\u001B[1;32m    486\u001B[0m     )\n\u001B[0;32m--> 487\u001B[0m \u001B[43mtorch\u001B[49m\u001B[38;5;241;43m.\u001B[39;49m\u001B[43mautograd\u001B[49m\u001B[38;5;241;43m.\u001B[39;49m\u001B[43mbackward\u001B[49m\u001B[43m(\u001B[49m\n\u001B[1;32m    488\u001B[0m \u001B[43m    \u001B[49m\u001B[38;5;28;43mself\u001B[39;49m\u001B[43m,\u001B[49m\u001B[43m \u001B[49m\u001B[43mgradient\u001B[49m\u001B[43m,\u001B[49m\u001B[43m \u001B[49m\u001B[43mretain_graph\u001B[49m\u001B[43m,\u001B[49m\u001B[43m \u001B[49m\u001B[43mcreate_graph\u001B[49m\u001B[43m,\u001B[49m\u001B[43m \u001B[49m\u001B[43minputs\u001B[49m\u001B[38;5;241;43m=\u001B[39;49m\u001B[43minputs\u001B[49m\n\u001B[1;32m    489\u001B[0m \u001B[43m\u001B[49m\u001B[43m)\u001B[49m\n",
      "File \u001B[0;32m~/opt/anaconda3/envs/torch_2_0/lib/python3.9/site-packages/torch/autograd/__init__.py:200\u001B[0m, in \u001B[0;36mbackward\u001B[0;34m(tensors, grad_tensors, retain_graph, create_graph, grad_variables, inputs)\u001B[0m\n\u001B[1;32m    195\u001B[0m     retain_graph \u001B[38;5;241m=\u001B[39m create_graph\n\u001B[1;32m    197\u001B[0m \u001B[38;5;66;03m# The reason we repeat same the comment below is that\u001B[39;00m\n\u001B[1;32m    198\u001B[0m \u001B[38;5;66;03m# some Python versions print out the first line of a multi-line function\u001B[39;00m\n\u001B[1;32m    199\u001B[0m \u001B[38;5;66;03m# calls in the traceback and some print out the last line\u001B[39;00m\n\u001B[0;32m--> 200\u001B[0m \u001B[43mVariable\u001B[49m\u001B[38;5;241;43m.\u001B[39;49m\u001B[43m_execution_engine\u001B[49m\u001B[38;5;241;43m.\u001B[39;49m\u001B[43mrun_backward\u001B[49m\u001B[43m(\u001B[49m\u001B[43m  \u001B[49m\u001B[38;5;66;43;03m# Calls into the C++ engine to run the backward pass\u001B[39;49;00m\n\u001B[1;32m    201\u001B[0m \u001B[43m    \u001B[49m\u001B[43mtensors\u001B[49m\u001B[43m,\u001B[49m\u001B[43m \u001B[49m\u001B[43mgrad_tensors_\u001B[49m\u001B[43m,\u001B[49m\u001B[43m \u001B[49m\u001B[43mretain_graph\u001B[49m\u001B[43m,\u001B[49m\u001B[43m \u001B[49m\u001B[43mcreate_graph\u001B[49m\u001B[43m,\u001B[49m\u001B[43m \u001B[49m\u001B[43minputs\u001B[49m\u001B[43m,\u001B[49m\n\u001B[1;32m    202\u001B[0m \u001B[43m    \u001B[49m\u001B[43mallow_unreachable\u001B[49m\u001B[38;5;241;43m=\u001B[39;49m\u001B[38;5;28;43;01mTrue\u001B[39;49;00m\u001B[43m,\u001B[49m\u001B[43m \u001B[49m\u001B[43maccumulate_grad\u001B[49m\u001B[38;5;241;43m=\u001B[39;49m\u001B[38;5;28;43;01mTrue\u001B[39;49;00m\u001B[43m)\u001B[49m\n",
      "\u001B[0;31mKeyboardInterrupt\u001B[0m: "
     ]
    }
   ],
   "source": [
    "# it will take 20 hrs, so the MPS has 10 times faster than cpu\n",
    "image_shape = [300, 450]\n",
    "content_weight, style_weight, tv_weight = 10, 1e3, 1\n",
    "lr = 0.5\n",
    "n_epoch = 500\n",
    "lr_decay = 50\n",
    "device = 'cpu'\n",
    "net = net.to(device)\n",
    "x, a, b, c = train(content_image, style_image, image_shape, lr, n_epoch, lr_decay, device,\n",
    "                   content_weight, style_weight, tv_weight)\n",
    "\n",
    "plt.plot(a, label='content loss')\n",
    "plt.plot(b, label='style loss')\n",
    "plt.plot(c, label='tv loss')\n",
    "plt.legend()\n",
    "plt.show()\n",
    "\n",
    "image_test = post_process(x.cpu())\n",
    "image_test.show()"
   ],
   "metadata": {
    "collapsed": false,
    "pycharm": {
     "name": "#%%\n"
    }
   }
  }
 ],
 "metadata": {
  "kernelspec": {
   "display_name": "nn",
   "language": "python",
   "name": "python3"
  },
  "language_info": {
   "codemirror_mode": {
    "name": "ipython",
    "version": 3
   },
   "file_extension": ".py",
   "mimetype": "text/x-python",
   "name": "python",
   "nbconvert_exporter": "python",
   "pygments_lexer": "ipython3",
   "version": "3.9.16"
  },
  "orig_nbformat": 4
 },
 "nbformat": 4,
 "nbformat_minor": 2
}